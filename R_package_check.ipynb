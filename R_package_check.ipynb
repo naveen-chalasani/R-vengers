{
 "cells": [
  {
   "cell_type": "code",
   "execution_count": 1,
   "metadata": {},
   "outputs": [
    {
     "name": "stderr",
     "output_type": "stream",
     "text": [
      "Installing package into 'C:/Users/rainy/R/win-library/4.0'\n",
      "(as 'lib' is unspecified)\n",
      "\n",
      "also installing the dependencies 'credentials', 'gitcreds', 'gert', 'gh', 'rappdirs', 'withr', 'usethis', 'covr'\n",
      "\n",
      "\n"
     ]
    },
    {
     "name": "stdout",
     "output_type": "stream",
     "text": [
      "package 'credentials' successfully unpacked and MD5 sums checked\n",
      "package 'gitcreds' successfully unpacked and MD5 sums checked\n",
      "package 'gert' successfully unpacked and MD5 sums checked\n",
      "package 'gh' successfully unpacked and MD5 sums checked\n",
      "package 'rappdirs' successfully unpacked and MD5 sums checked\n",
      "package 'withr' successfully unpacked and MD5 sums checked\n",
      "package 'usethis' successfully unpacked and MD5 sums checked\n",
      "package 'covr' successfully unpacked and MD5 sums checked\n",
      "package 'devtools' successfully unpacked and MD5 sums checked\n",
      "\n",
      "The downloaded binary packages are in\n",
      "\tC:\\Users\\rainy\\AppData\\Local\\Temp\\RtmpI7uiIG\\downloaded_packages\n"
     ]
    },
    {
     "name": "stderr",
     "output_type": "stream",
     "text": [
      "Installing package into 'C:/Users/rainy/R/win-library/4.0'\n",
      "(as 'lib' is unspecified)\n",
      "\n"
     ]
    },
    {
     "name": "stdout",
     "output_type": "stream",
     "text": [
      "package 'roxygen2' successfully unpacked and MD5 sums checked\n",
      "\n",
      "The downloaded binary packages are in\n",
      "\tC:\\Users\\rainy\\AppData\\Local\\Temp\\RtmpI7uiIG\\downloaded_packages\n"
     ]
    }
   ],
   "source": [
    "install.packages(\"devtools\")\n",
    "install.packages(\"roxygen2\")"
   ]
  },
  {
   "cell_type": "code",
   "execution_count": 9,
   "metadata": {},
   "outputs": [],
   "source": [
    "library(httr)\n",
    "library(jsonlite)"
   ]
  },
  {
   "cell_type": "code",
   "execution_count": 9,
   "metadata": {},
   "outputs": [
    {
     "data": {
      "text/html": [
       "'C:/MDS/DATA534/Project'"
      ],
      "text/latex": [
       "'C:/MDS/DATA534/Project'"
      ],
      "text/markdown": [
       "'C:/MDS/DATA534/Project'"
      ],
      "text/plain": [
       "[1] \"C:/MDS/DATA534/Project\""
      ]
     },
     "metadata": {},
     "output_type": "display_data"
    }
   ],
   "source": [
    "getwd()"
   ]
  },
  {
   "cell_type": "code",
   "execution_count": 8,
   "metadata": {},
   "outputs": [],
   "source": [
    "setwd('C:/MDS/DATA534/Project')"
   ]
  },
  {
   "cell_type": "code",
   "execution_count": 10,
   "metadata": {},
   "outputs": [
    {
     "name": "stderr",
     "output_type": "stream",
     "text": [
      "\u001b[32m√\u001b[39m Creating \u001b[34m'R.vengers/'\u001b[39m\n",
      "\n",
      "\u001b[32m√\u001b[39m Setting active project to \u001b[34m'C:/MDS/DATA534/Project/R.vengers'\u001b[39m\n",
      "\n",
      "\u001b[32m√\u001b[39m Creating \u001b[34m'R/'\u001b[39m\n",
      "\n",
      "\u001b[32m√\u001b[39m Writing \u001b[34m'DESCRIPTION'\u001b[39m\n",
      "\n"
     ]
    },
    {
     "name": "stdout",
     "output_type": "stream",
     "text": [
      "\u001b[34mPackage\u001b[39m: R.vengers\n",
      "\u001b[34mTitle\u001b[39m: What the Package Does (One Line, Title Case)\n",
      "\u001b[34mVersion\u001b[39m: 0.0.0.9000\n",
      "\u001b[34mAuthors@R\u001b[39m (parsed):\n",
      "    * First Last <first.last@example.com> [aut, cre] (YOUR-ORCID-ID)\n",
      "\u001b[34mDescription\u001b[39m: What the package does (one paragraph).\n",
      "\u001b[34mLicense\u001b[39m: `use_mit_license()`, `use_gpl3_license()` or friends to\n",
      "    pick a license\n",
      "\u001b[34mEncoding\u001b[39m: UTF-8\n",
      "\u001b[34mLazyData\u001b[39m: true\n",
      "\u001b[34mRoxygen\u001b[39m: list(markdown = TRUE)\n",
      "\u001b[34mRoxygenNote\u001b[39m: 7.1.1\n"
     ]
    },
    {
     "name": "stderr",
     "output_type": "stream",
     "text": [
      "\u001b[32m√\u001b[39m Writing \u001b[34m'NAMESPACE'\u001b[39m\n",
      "\n",
      "\u001b[32m√\u001b[39m Setting active project to \u001b[34m'<no active project>'\u001b[39m\n",
      "\n"
     ]
    }
   ],
   "source": [
    "devtools::create(\"R.vengers\")"
   ]
  },
  {
   "cell_type": "code",
   "execution_count": 11,
   "metadata": {},
   "outputs": [],
   "source": [
    "# External dependencies need to be used as ::\n",
    "# package need to be added to imports in DESCRIPTION file"
   ]
  },
  {
   "cell_type": "code",
   "execution_count": 14,
   "metadata": {},
   "outputs": [],
   "source": [
    "#' A Movie Search Function\n",
    "#'\n",
    "#' This function allows you to search movie by using a key word.\n",
    "#' @param A string of an English word\n",
    "#' @return A list of search results\n",
    "#' @export\n",
    "#' search_movie()\n",
    "\n",
    "search_movie <- function(keyWord){\n",
    "    \n",
    "    base_search_url <- \"http://www.omdbapi.com/?s=\"\n",
    "    apikey <- 'apikey=45abab5f'\n",
    "    \n",
    "    search_url <- paste0(base_search_url, paste(keyWord, apikey, sep = '&'))\n",
    "    result <- httr::GET(url = search_url)\n",
    "    result_httr <- httr::content(result, as = \"text\")\n",
    "    result_json <- fromJSON(search_1_httr)\n",
    "    \n",
    "    result_json\n",
    "}"
   ]
  },
  {
   "cell_type": "code",
   "execution_count": null,
   "metadata": {},
   "outputs": [],
   "source": [
    "setwd('./R.vengers')"
   ]
  },
  {
   "cell_type": "code",
   "execution_count": 19,
   "metadata": {},
   "outputs": [
    {
     "name": "stderr",
     "output_type": "stream",
     "text": [
      "Updating R.vengers documentation\n",
      "\n",
      "Loading R.vengers\n",
      "\n",
      "Warning message:\n",
      "\"\n",
      "-- \u001b[1mConflicts\u001b[22m -------------------------------------------- R.vengers conflicts --\n",
      "\u001b[31mx\u001b[39m \u001b[32msearch_movie()\u001b[39m masks \u001b[34mR.vengers\u001b[39m::search_movie()\n",
      "\n",
      "\u001b[90mDid you accidentally source a file rather than using `load_all()`?\n",
      "Run `rm(list = c(\"search_movie\"))` to remove the conflicts.\u001b[39m\"\n"
     ]
    },
    {
     "name": "stdout",
     "output_type": "stream",
     "text": [
      "Writing NAMESPACE\n",
      "Writing search_movie.Rd\n"
     ]
    }
   ],
   "source": [
    "devtools::document()"
   ]
  },
  {
   "cell_type": "code",
   "execution_count": 10,
   "metadata": {},
   "outputs": [],
   "source": [
    "select_movie <- function(js_lst, id_num){\n",
    "  \n",
    "  id_search_url <- \"http://www.omdbapi.com/?i=\"\n",
    "  apikey <- 'apikey=45abab5f'\n",
    "  \n",
    "  id <- js_lst$Search$imdbID[id_num]\n",
    "  id_url <- paste0(id_search_url, paste(id, apikey, sep = '&'))\n",
    "  movie <- httr::GET(url = id_url)\n",
    "  movie_httr <- httr::content(movie, as = \"text\")\n",
    "  movie_json <- fromJSON(movie_httr)\n",
    "  return(movie_json)\n",
    "}"
   ]
  },
  {
   "cell_type": "code",
   "execution_count": 11,
   "metadata": {},
   "outputs": [],
   "source": [
    "search_movie <- function(keyWord){\n",
    "  \n",
    "  base_search_url <- \"http://www.omdbapi.com/?s=\"\n",
    "  apikey <- 'apikey=45abab5f'\n",
    "  \n",
    "  search_url <- paste0(base_search_url, paste(keyWord, apikey, sep = '&'))\n",
    "  result <- httr::GET(url = search_url)\n",
    "  result_httr <- httr::content(result, as = \"text\")\n",
    "  result_json <- fromJSON(result_httr)\n",
    "  return(result_json)\n",
    "}"
   ]
  },
  {
   "cell_type": "code",
   "execution_count": 12,
   "metadata": {},
   "outputs": [],
   "source": [
    "get_movie <- function(key_word, id_num){\n",
    "  \n",
    "  search_out <- search_movie(key_word)\n",
    "  movie_out <- select_movie(search_out, id_num)\n",
    "\n",
    "  return(movie_out)\n",
    "}"
   ]
  },
  {
   "cell_type": "code",
   "execution_count": 13,
   "metadata": {},
   "outputs": [
    {
     "data": {
      "text/html": [
       "<dl>\n",
       "\t<dt>$Search</dt>\n",
       "\t\t<dd><table>\n",
       "<caption>A data.frame: 10 × 5</caption>\n",
       "<thead>\n",
       "\t<tr><th></th><th scope=col>Title</th><th scope=col>Year</th><th scope=col>imdbID</th><th scope=col>Type</th><th scope=col>Poster</th></tr>\n",
       "\t<tr><th></th><th scope=col>&lt;chr&gt;</th><th scope=col>&lt;chr&gt;</th><th scope=col>&lt;chr&gt;</th><th scope=col>&lt;chr&gt;</th><th scope=col>&lt;chr&gt;</th></tr>\n",
       "</thead>\n",
       "<tbody>\n",
       "\t<tr><th scope=row>1</th><td>Guardians of the Galaxy             </td><td>2014     </td><td>tt2015381</td><td>movie </td><td>https://m.media-amazon.com/images/M/MV5BMTAwMjU5OTgxNjZeQTJeQWpwZ15BbWU4MDUxNDYxODEx._V1_SX300.jpg                                        </td></tr>\n",
       "\t<tr><th scope=row>2</th><td>Guardians of the Galaxy Vol. 2      </td><td>2017     </td><td>tt3896198</td><td>movie </td><td>https://m.media-amazon.com/images/M/MV5BNjM0NTc0NzItM2FlYS00YzEwLWE0YmUtNTA2ZWIzODc2OTgxXkEyXkFqcGdeQXVyNTgwNzIyNzg@._V1_SX300.jpg        </td></tr>\n",
       "\t<tr><th scope=row>3</th><td>The Hitchhiker's Guide to the Galaxy</td><td>2005     </td><td>tt0371724</td><td>movie </td><td>https://m.media-amazon.com/images/M/MV5BZmU5MGU4MjctNjA2OC00N2FhLWFhNWQtMzQyMGI2ZmQ0Y2YyL2ltYWdlXkEyXkFqcGdeQXVyNTAyODkwOQ@@._V1_SX300.jpg</td></tr>\n",
       "\t<tr><th scope=row>4</th><td>Galaxy Quest                        </td><td>1999     </td><td>tt0177789</td><td>movie </td><td>https://m.media-amazon.com/images/M/MV5BNmZlNTY5YjQtZTU5ZC00MzcyLWI1NDMtNjA0ZjQxMmQwYjJmL2ltYWdlXkEyXkFqcGdeQXVyNTAyODkwOQ@@._V1_SX300.jpg</td></tr>\n",
       "\t<tr><th scope=row>5</th><td>The Hitchhiker's Guide to the Galaxy</td><td>1981     </td><td>tt0081874</td><td>series</td><td>https://m.media-amazon.com/images/M/MV5BMTI2OTMwNDU1NF5BMl5BanBnXkFtZTcwOTIyNzAzMQ@@._V1_SX300.jpg                                        </td></tr>\n",
       "\t<tr><th scope=row>6</th><td>Galaxy of Terror                    </td><td>1981     </td><td>tt0082431</td><td>movie </td><td>https://m.media-amazon.com/images/M/MV5BNTE0MjkzMWItYTI3ZS00ZGRiLTllOTktMGMyNzlkMjRmZWZmXkEyXkFqcGdeQXVyNTAyODkwOQ@@._V1_SX300.jpg        </td></tr>\n",
       "\t<tr><th scope=row>7</th><td>Super Mario Galaxy                  </td><td>2007     </td><td>tt0879874</td><td>game  </td><td>https://m.media-amazon.com/images/M/MV5BOTc2ZTRkMzgtNjlmNi00NDVlLTg4NjAtZjY2NWU4ODJhNDYzXkEyXkFqcGdeQXVyNTM0MjE5NTc@._V1_SX300.jpg        </td></tr>\n",
       "\t<tr><th scope=row>8</th><td>The Tatami Galaxy                   </td><td>2010     </td><td>tt1847445</td><td>series</td><td>https://m.media-amazon.com/images/M/MV5BNzJiMjdlNGEtZGM1Yi00MjE1LWJlZmQtN2U3YzNhZmJiMGZiXkEyXkFqcGdeQXVyMTg2NzgzMDE@._V1_SX300.jpg        </td></tr>\n",
       "\t<tr><th scope=row>9</th><td>Guardians of the Galaxy             </td><td>2015–2019</td><td>tt4176370</td><td>series</td><td>https://m.media-amazon.com/images/M/MV5BNDM4NDQxMDU2MV5BMl5BanBnXkFtZTgwMDY2MDQ5NjE@._V1_SX300.jpg                                        </td></tr>\n",
       "\t<tr><th scope=row>10</th><td>Power Rangers Lost Galaxy           </td><td>1999–2000</td><td>tt0175059</td><td>series</td><td>https://m.media-amazon.com/images/M/MV5BMjA0NTE0MTU2Nl5BMl5BanBnXkFtZTcwMzk3NzAzMQ@@._V1_SX300.jpg                                        </td></tr>\n",
       "</tbody>\n",
       "</table>\n",
       "</dd>\n",
       "\t<dt>$totalResults</dt>\n",
       "\t\t<dd>'245'</dd>\n",
       "\t<dt>$Response</dt>\n",
       "\t\t<dd>'True'</dd>\n",
       "</dl>\n"
      ],
      "text/latex": [
       "\\begin{description}\n",
       "\\item[\\$Search] A data.frame: 10 × 5\n",
       "\\begin{tabular}{r|lllll}\n",
       "  & Title & Year & imdbID & Type & Poster\\\\\n",
       "  & <chr> & <chr> & <chr> & <chr> & <chr>\\\\\n",
       "\\hline\n",
       "\t1 & Guardians of the Galaxy              & 2014      & tt2015381 & movie  & https://m.media-amazon.com/images/M/MV5BMTAwMjU5OTgxNjZeQTJeQWpwZ15BbWU4MDUxNDYxODEx.\\_V1\\_SX300.jpg                                        \\\\\n",
       "\t2 & Guardians of the Galaxy Vol. 2       & 2017      & tt3896198 & movie  & https://m.media-amazon.com/images/M/MV5BNjM0NTc0NzItM2FlYS00YzEwLWE0YmUtNTA2ZWIzODc2OTgxXkEyXkFqcGdeQXVyNTgwNzIyNzg@.\\_V1\\_SX300.jpg        \\\\\n",
       "\t3 & The Hitchhiker's Guide to the Galaxy & 2005      & tt0371724 & movie  & https://m.media-amazon.com/images/M/MV5BZmU5MGU4MjctNjA2OC00N2FhLWFhNWQtMzQyMGI2ZmQ0Y2YyL2ltYWdlXkEyXkFqcGdeQXVyNTAyODkwOQ@@.\\_V1\\_SX300.jpg\\\\\n",
       "\t4 & Galaxy Quest                         & 1999      & tt0177789 & movie  & https://m.media-amazon.com/images/M/MV5BNmZlNTY5YjQtZTU5ZC00MzcyLWI1NDMtNjA0ZjQxMmQwYjJmL2ltYWdlXkEyXkFqcGdeQXVyNTAyODkwOQ@@.\\_V1\\_SX300.jpg\\\\\n",
       "\t5 & The Hitchhiker's Guide to the Galaxy & 1981      & tt0081874 & series & https://m.media-amazon.com/images/M/MV5BMTI2OTMwNDU1NF5BMl5BanBnXkFtZTcwOTIyNzAzMQ@@.\\_V1\\_SX300.jpg                                        \\\\\n",
       "\t6 & Galaxy of Terror                     & 1981      & tt0082431 & movie  & https://m.media-amazon.com/images/M/MV5BNTE0MjkzMWItYTI3ZS00ZGRiLTllOTktMGMyNzlkMjRmZWZmXkEyXkFqcGdeQXVyNTAyODkwOQ@@.\\_V1\\_SX300.jpg        \\\\\n",
       "\t7 & Super Mario Galaxy                   & 2007      & tt0879874 & game   & https://m.media-amazon.com/images/M/MV5BOTc2ZTRkMzgtNjlmNi00NDVlLTg4NjAtZjY2NWU4ODJhNDYzXkEyXkFqcGdeQXVyNTM0MjE5NTc@.\\_V1\\_SX300.jpg        \\\\\n",
       "\t8 & The Tatami Galaxy                    & 2010      & tt1847445 & series & https://m.media-amazon.com/images/M/MV5BNzJiMjdlNGEtZGM1Yi00MjE1LWJlZmQtN2U3YzNhZmJiMGZiXkEyXkFqcGdeQXVyMTg2NzgzMDE@.\\_V1\\_SX300.jpg        \\\\\n",
       "\t9 & Guardians of the Galaxy              & 2015–2019 & tt4176370 & series & https://m.media-amazon.com/images/M/MV5BNDM4NDQxMDU2MV5BMl5BanBnXkFtZTgwMDY2MDQ5NjE@.\\_V1\\_SX300.jpg                                        \\\\\n",
       "\t10 & Power Rangers Lost Galaxy            & 1999–2000 & tt0175059 & series & https://m.media-amazon.com/images/M/MV5BMjA0NTE0MTU2Nl5BMl5BanBnXkFtZTcwMzk3NzAzMQ@@.\\_V1\\_SX300.jpg                                        \\\\\n",
       "\\end{tabular}\n",
       "\n",
       "\\item[\\$totalResults] '245'\n",
       "\\item[\\$Response] 'True'\n",
       "\\end{description}\n"
      ],
      "text/markdown": [
       "$Search\n",
       ":   \n",
       "A data.frame: 10 × 5\n",
       "\n",
       "| <!--/--> | Title &lt;chr&gt; | Year &lt;chr&gt; | imdbID &lt;chr&gt; | Type &lt;chr&gt; | Poster &lt;chr&gt; |\n",
       "|---|---|---|---|---|---|\n",
       "| 1 | Guardians of the Galaxy              | 2014      | tt2015381 | movie  | https://m.media-amazon.com/images/M/MV5BMTAwMjU5OTgxNjZeQTJeQWpwZ15BbWU4MDUxNDYxODEx._V1_SX300.jpg                                         |\n",
       "| 2 | Guardians of the Galaxy Vol. 2       | 2017      | tt3896198 | movie  | https://m.media-amazon.com/images/M/MV5BNjM0NTc0NzItM2FlYS00YzEwLWE0YmUtNTA2ZWIzODc2OTgxXkEyXkFqcGdeQXVyNTgwNzIyNzg@._V1_SX300.jpg         |\n",
       "| 3 | The Hitchhiker's Guide to the Galaxy | 2005      | tt0371724 | movie  | https://m.media-amazon.com/images/M/MV5BZmU5MGU4MjctNjA2OC00N2FhLWFhNWQtMzQyMGI2ZmQ0Y2YyL2ltYWdlXkEyXkFqcGdeQXVyNTAyODkwOQ@@._V1_SX300.jpg |\n",
       "| 4 | Galaxy Quest                         | 1999      | tt0177789 | movie  | https://m.media-amazon.com/images/M/MV5BNmZlNTY5YjQtZTU5ZC00MzcyLWI1NDMtNjA0ZjQxMmQwYjJmL2ltYWdlXkEyXkFqcGdeQXVyNTAyODkwOQ@@._V1_SX300.jpg |\n",
       "| 5 | The Hitchhiker's Guide to the Galaxy | 1981      | tt0081874 | series | https://m.media-amazon.com/images/M/MV5BMTI2OTMwNDU1NF5BMl5BanBnXkFtZTcwOTIyNzAzMQ@@._V1_SX300.jpg                                         |\n",
       "| 6 | Galaxy of Terror                     | 1981      | tt0082431 | movie  | https://m.media-amazon.com/images/M/MV5BNTE0MjkzMWItYTI3ZS00ZGRiLTllOTktMGMyNzlkMjRmZWZmXkEyXkFqcGdeQXVyNTAyODkwOQ@@._V1_SX300.jpg         |\n",
       "| 7 | Super Mario Galaxy                   | 2007      | tt0879874 | game   | https://m.media-amazon.com/images/M/MV5BOTc2ZTRkMzgtNjlmNi00NDVlLTg4NjAtZjY2NWU4ODJhNDYzXkEyXkFqcGdeQXVyNTM0MjE5NTc@._V1_SX300.jpg         |\n",
       "| 8 | The Tatami Galaxy                    | 2010      | tt1847445 | series | https://m.media-amazon.com/images/M/MV5BNzJiMjdlNGEtZGM1Yi00MjE1LWJlZmQtN2U3YzNhZmJiMGZiXkEyXkFqcGdeQXVyMTg2NzgzMDE@._V1_SX300.jpg         |\n",
       "| 9 | Guardians of the Galaxy              | 2015–2019 | tt4176370 | series | https://m.media-amazon.com/images/M/MV5BNDM4NDQxMDU2MV5BMl5BanBnXkFtZTgwMDY2MDQ5NjE@._V1_SX300.jpg                                         |\n",
       "| 10 | Power Rangers Lost Galaxy            | 1999–2000 | tt0175059 | series | https://m.media-amazon.com/images/M/MV5BMjA0NTE0MTU2Nl5BMl5BanBnXkFtZTcwMzk3NzAzMQ@@._V1_SX300.jpg                                         |\n",
       "\n",
       "\n",
       "$totalResults\n",
       ":   '245'\n",
       "$Response\n",
       ":   'True'\n",
       "\n",
       "\n"
      ],
      "text/plain": [
       "$Search\n",
       "                                  Title      Year    imdbID   Type\n",
       "1               Guardians of the Galaxy      2014 tt2015381  movie\n",
       "2        Guardians of the Galaxy Vol. 2      2017 tt3896198  movie\n",
       "3  The Hitchhiker's Guide to the Galaxy      2005 tt0371724  movie\n",
       "4                          Galaxy Quest      1999 tt0177789  movie\n",
       "5  The Hitchhiker's Guide to the Galaxy      1981 tt0081874 series\n",
       "6                      Galaxy of Terror      1981 tt0082431  movie\n",
       "7                    Super Mario Galaxy      2007 tt0879874   game\n",
       "8                     The Tatami Galaxy      2010 tt1847445 series\n",
       "9               Guardians of the Galaxy 2015–2019 tt4176370 series\n",
       "10            Power Rangers Lost Galaxy 1999–2000 tt0175059 series\n",
       "                                                                                                                                       Poster\n",
       "1                                          https://m.media-amazon.com/images/M/MV5BMTAwMjU5OTgxNjZeQTJeQWpwZ15BbWU4MDUxNDYxODEx._V1_SX300.jpg\n",
       "2          https://m.media-amazon.com/images/M/MV5BNjM0NTc0NzItM2FlYS00YzEwLWE0YmUtNTA2ZWIzODc2OTgxXkEyXkFqcGdeQXVyNTgwNzIyNzg@._V1_SX300.jpg\n",
       "3  https://m.media-amazon.com/images/M/MV5BZmU5MGU4MjctNjA2OC00N2FhLWFhNWQtMzQyMGI2ZmQ0Y2YyL2ltYWdlXkEyXkFqcGdeQXVyNTAyODkwOQ@@._V1_SX300.jpg\n",
       "4  https://m.media-amazon.com/images/M/MV5BNmZlNTY5YjQtZTU5ZC00MzcyLWI1NDMtNjA0ZjQxMmQwYjJmL2ltYWdlXkEyXkFqcGdeQXVyNTAyODkwOQ@@._V1_SX300.jpg\n",
       "5                                          https://m.media-amazon.com/images/M/MV5BMTI2OTMwNDU1NF5BMl5BanBnXkFtZTcwOTIyNzAzMQ@@._V1_SX300.jpg\n",
       "6          https://m.media-amazon.com/images/M/MV5BNTE0MjkzMWItYTI3ZS00ZGRiLTllOTktMGMyNzlkMjRmZWZmXkEyXkFqcGdeQXVyNTAyODkwOQ@@._V1_SX300.jpg\n",
       "7          https://m.media-amazon.com/images/M/MV5BOTc2ZTRkMzgtNjlmNi00NDVlLTg4NjAtZjY2NWU4ODJhNDYzXkEyXkFqcGdeQXVyNTM0MjE5NTc@._V1_SX300.jpg\n",
       "8          https://m.media-amazon.com/images/M/MV5BNzJiMjdlNGEtZGM1Yi00MjE1LWJlZmQtN2U3YzNhZmJiMGZiXkEyXkFqcGdeQXVyMTg2NzgzMDE@._V1_SX300.jpg\n",
       "9                                          https://m.media-amazon.com/images/M/MV5BNDM4NDQxMDU2MV5BMl5BanBnXkFtZTgwMDY2MDQ5NjE@._V1_SX300.jpg\n",
       "10                                         https://m.media-amazon.com/images/M/MV5BMjA0NTE0MTU2Nl5BMl5BanBnXkFtZTcwMzk3NzAzMQ@@._V1_SX300.jpg\n",
       "\n",
       "$totalResults\n",
       "[1] \"245\"\n",
       "\n",
       "$Response\n",
       "[1] \"True\"\n"
      ]
     },
     "metadata": {},
     "output_type": "display_data"
    }
   ],
   "source": [
    "search_movie('galaxy')"
   ]
  },
  {
   "cell_type": "code",
   "execution_count": 14,
   "metadata": {},
   "outputs": [
    {
     "data": {
      "text/html": [
       "<dl>\n",
       "\t<dt>$Title</dt>\n",
       "\t\t<dd>'Guardians of the Galaxy'</dd>\n",
       "\t<dt>$Year</dt>\n",
       "\t\t<dd>'2014'</dd>\n",
       "\t<dt>$Rated</dt>\n",
       "\t\t<dd>'PG-13'</dd>\n",
       "\t<dt>$Released</dt>\n",
       "\t\t<dd>'01 Aug 2014'</dd>\n",
       "\t<dt>$Runtime</dt>\n",
       "\t\t<dd>'121 min'</dd>\n",
       "\t<dt>$Genre</dt>\n",
       "\t\t<dd>'Action, Adventure, Comedy, Sci-Fi'</dd>\n",
       "\t<dt>$Director</dt>\n",
       "\t\t<dd>'James Gunn'</dd>\n",
       "\t<dt>$Writer</dt>\n",
       "\t\t<dd><span style=white-space:pre-wrap>'James Gunn, Nicole Perlman, Dan Abnett (based on the Marvel comics by), Andy Lanning (based on the Marvel comics by), Bill Mantlo (character created by: Rocket Raccoon), Keith Giffen (character created by: Rocket Raccoon), Jim Starlin (characters created by: Drax the Destroyer,  Gamora &amp; Thanos), Steve Englehart (character created by: Star-Lord), Steve Gan (character created by: Star-Lord), Steve Gerber (character created by: Howard the Duck), Val Mayerik (character created by: Howard the Duck)'</span></dd>\n",
       "\t<dt>$Actors</dt>\n",
       "\t\t<dd>'Chris Pratt, Zoe Saldana, Dave Bautista, Vin Diesel'</dd>\n",
       "\t<dt>$Plot</dt>\n",
       "\t\t<dd>'A group of intergalactic criminals must pull together to stop a fanatical warrior with plans to purge the universe.'</dd>\n",
       "\t<dt>$Language</dt>\n",
       "\t\t<dd>'English'</dd>\n",
       "\t<dt>$Country</dt>\n",
       "\t\t<dd>'USA'</dd>\n",
       "\t<dt>$Awards</dt>\n",
       "\t\t<dd>'Nominated for 2 Oscars. Another 52 wins &amp; 100 nominations.'</dd>\n",
       "\t<dt>$Poster</dt>\n",
       "\t\t<dd>'https://m.media-amazon.com/images/M/MV5BMTAwMjU5OTgxNjZeQTJeQWpwZ15BbWU4MDUxNDYxODEx._V1_SX300.jpg'</dd>\n",
       "\t<dt>$Ratings</dt>\n",
       "\t\t<dd><table>\n",
       "<caption>A data.frame: 3 × 2</caption>\n",
       "<thead>\n",
       "\t<tr><th></th><th scope=col>Source</th><th scope=col>Value</th></tr>\n",
       "\t<tr><th></th><th scope=col>&lt;chr&gt;</th><th scope=col>&lt;chr&gt;</th></tr>\n",
       "</thead>\n",
       "<tbody>\n",
       "\t<tr><th scope=row>1</th><td>Internet Movie Database</td><td>8.0/10</td></tr>\n",
       "\t<tr><th scope=row>2</th><td>Rotten Tomatoes        </td><td>91%   </td></tr>\n",
       "\t<tr><th scope=row>3</th><td>Metacritic             </td><td>76/100</td></tr>\n",
       "</tbody>\n",
       "</table>\n",
       "</dd>\n",
       "\t<dt>$Metascore</dt>\n",
       "\t\t<dd>'76'</dd>\n",
       "\t<dt>$imdbRating</dt>\n",
       "\t\t<dd>'8.0'</dd>\n",
       "\t<dt>$imdbVotes</dt>\n",
       "\t\t<dd>'1,040,471'</dd>\n",
       "\t<dt>$imdbID</dt>\n",
       "\t\t<dd>'tt2015381'</dd>\n",
       "\t<dt>$Type</dt>\n",
       "\t\t<dd>'movie'</dd>\n",
       "\t<dt>$DVD</dt>\n",
       "\t\t<dd>'N/A'</dd>\n",
       "\t<dt>$BoxOffice</dt>\n",
       "\t\t<dd>'$333,718,600'</dd>\n",
       "\t<dt>$Production</dt>\n",
       "\t\t<dd>'Marvel Studios, Moving Picture Company, Marvel Enterprises'</dd>\n",
       "\t<dt>$Website</dt>\n",
       "\t\t<dd>'N/A'</dd>\n",
       "\t<dt>$Response</dt>\n",
       "\t\t<dd>'True'</dd>\n",
       "</dl>\n"
      ],
      "text/latex": [
       "\\begin{description}\n",
       "\\item[\\$Title] 'Guardians of the Galaxy'\n",
       "\\item[\\$Year] '2014'\n",
       "\\item[\\$Rated] 'PG-13'\n",
       "\\item[\\$Released] '01 Aug 2014'\n",
       "\\item[\\$Runtime] '121 min'\n",
       "\\item[\\$Genre] 'Action, Adventure, Comedy, Sci-Fi'\n",
       "\\item[\\$Director] 'James Gunn'\n",
       "\\item[\\$Writer] 'James Gunn, Nicole Perlman, Dan Abnett (based on the Marvel comics by), Andy Lanning (based on the Marvel comics by), Bill Mantlo (character created by: Rocket Raccoon), Keith Giffen (character created by: Rocket Raccoon), Jim Starlin (characters created by: Drax the Destroyer,  Gamora \\& Thanos), Steve Englehart (character created by: Star-Lord), Steve Gan (character created by: Star-Lord), Steve Gerber (character created by: Howard the Duck), Val Mayerik (character created by: Howard the Duck)'\n",
       "\\item[\\$Actors] 'Chris Pratt, Zoe Saldana, Dave Bautista, Vin Diesel'\n",
       "\\item[\\$Plot] 'A group of intergalactic criminals must pull together to stop a fanatical warrior with plans to purge the universe.'\n",
       "\\item[\\$Language] 'English'\n",
       "\\item[\\$Country] 'USA'\n",
       "\\item[\\$Awards] 'Nominated for 2 Oscars. Another 52 wins \\& 100 nominations.'\n",
       "\\item[\\$Poster] 'https://m.media-amazon.com/images/M/MV5BMTAwMjU5OTgxNjZeQTJeQWpwZ15BbWU4MDUxNDYxODEx.\\_V1\\_SX300.jpg'\n",
       "\\item[\\$Ratings] A data.frame: 3 × 2\n",
       "\\begin{tabular}{r|ll}\n",
       "  & Source & Value\\\\\n",
       "  & <chr> & <chr>\\\\\n",
       "\\hline\n",
       "\t1 & Internet Movie Database & 8.0/10\\\\\n",
       "\t2 & Rotten Tomatoes         & 91\\%   \\\\\n",
       "\t3 & Metacritic              & 76/100\\\\\n",
       "\\end{tabular}\n",
       "\n",
       "\\item[\\$Metascore] '76'\n",
       "\\item[\\$imdbRating] '8.0'\n",
       "\\item[\\$imdbVotes] '1,040,471'\n",
       "\\item[\\$imdbID] 'tt2015381'\n",
       "\\item[\\$Type] 'movie'\n",
       "\\item[\\$DVD] 'N/A'\n",
       "\\item[\\$BoxOffice] '\\$333,718,600'\n",
       "\\item[\\$Production] 'Marvel Studios, Moving Picture Company, Marvel Enterprises'\n",
       "\\item[\\$Website] 'N/A'\n",
       "\\item[\\$Response] 'True'\n",
       "\\end{description}\n"
      ],
      "text/markdown": [
       "$Title\n",
       ":   'Guardians of the Galaxy'\n",
       "$Year\n",
       ":   '2014'\n",
       "$Rated\n",
       ":   'PG-13'\n",
       "$Released\n",
       ":   '01 Aug 2014'\n",
       "$Runtime\n",
       ":   '121 min'\n",
       "$Genre\n",
       ":   'Action, Adventure, Comedy, Sci-Fi'\n",
       "$Director\n",
       ":   'James Gunn'\n",
       "$Writer\n",
       ":   <span style=white-space:pre-wrap>'James Gunn, Nicole Perlman, Dan Abnett (based on the Marvel comics by), Andy Lanning (based on the Marvel comics by), Bill Mantlo (character created by: Rocket Raccoon), Keith Giffen (character created by: Rocket Raccoon), Jim Starlin (characters created by: Drax the Destroyer,  Gamora &amp; Thanos), Steve Englehart (character created by: Star-Lord), Steve Gan (character created by: Star-Lord), Steve Gerber (character created by: Howard the Duck), Val Mayerik (character created by: Howard the Duck)'</span>\n",
       "$Actors\n",
       ":   'Chris Pratt, Zoe Saldana, Dave Bautista, Vin Diesel'\n",
       "$Plot\n",
       ":   'A group of intergalactic criminals must pull together to stop a fanatical warrior with plans to purge the universe.'\n",
       "$Language\n",
       ":   'English'\n",
       "$Country\n",
       ":   'USA'\n",
       "$Awards\n",
       ":   'Nominated for 2 Oscars. Another 52 wins &amp; 100 nominations.'\n",
       "$Poster\n",
       ":   'https://m.media-amazon.com/images/M/MV5BMTAwMjU5OTgxNjZeQTJeQWpwZ15BbWU4MDUxNDYxODEx._V1_SX300.jpg'\n",
       "$Ratings\n",
       ":   \n",
       "A data.frame: 3 × 2\n",
       "\n",
       "| <!--/--> | Source &lt;chr&gt; | Value &lt;chr&gt; |\n",
       "|---|---|---|\n",
       "| 1 | Internet Movie Database | 8.0/10 |\n",
       "| 2 | Rotten Tomatoes         | 91%    |\n",
       "| 3 | Metacritic              | 76/100 |\n",
       "\n",
       "\n",
       "$Metascore\n",
       ":   '76'\n",
       "$imdbRating\n",
       ":   '8.0'\n",
       "$imdbVotes\n",
       ":   '1,040,471'\n",
       "$imdbID\n",
       ":   'tt2015381'\n",
       "$Type\n",
       ":   'movie'\n",
       "$DVD\n",
       ":   'N/A'\n",
       "$BoxOffice\n",
       ":   '$333,718,600'\n",
       "$Production\n",
       ":   'Marvel Studios, Moving Picture Company, Marvel Enterprises'\n",
       "$Website\n",
       ":   'N/A'\n",
       "$Response\n",
       ":   'True'\n",
       "\n",
       "\n"
      ],
      "text/plain": [
       "$Title\n",
       "[1] \"Guardians of the Galaxy\"\n",
       "\n",
       "$Year\n",
       "[1] \"2014\"\n",
       "\n",
       "$Rated\n",
       "[1] \"PG-13\"\n",
       "\n",
       "$Released\n",
       "[1] \"01 Aug 2014\"\n",
       "\n",
       "$Runtime\n",
       "[1] \"121 min\"\n",
       "\n",
       "$Genre\n",
       "[1] \"Action, Adventure, Comedy, Sci-Fi\"\n",
       "\n",
       "$Director\n",
       "[1] \"James Gunn\"\n",
       "\n",
       "$Writer\n",
       "[1] \"James Gunn, Nicole Perlman, Dan Abnett (based on the Marvel comics by), Andy Lanning (based on the Marvel comics by), Bill Mantlo (character created by: Rocket Raccoon), Keith Giffen (character created by: Rocket Raccoon), Jim Starlin (characters created by: Drax the Destroyer,  Gamora & Thanos), Steve Englehart (character created by: Star-Lord), Steve Gan (character created by: Star-Lord), Steve Gerber (character created by: Howard the Duck), Val Mayerik (character created by: Howard the Duck)\"\n",
       "\n",
       "$Actors\n",
       "[1] \"Chris Pratt, Zoe Saldana, Dave Bautista, Vin Diesel\"\n",
       "\n",
       "$Plot\n",
       "[1] \"A group of intergalactic criminals must pull together to stop a fanatical warrior with plans to purge the universe.\"\n",
       "\n",
       "$Language\n",
       "[1] \"English\"\n",
       "\n",
       "$Country\n",
       "[1] \"USA\"\n",
       "\n",
       "$Awards\n",
       "[1] \"Nominated for 2 Oscars. Another 52 wins & 100 nominations.\"\n",
       "\n",
       "$Poster\n",
       "[1] \"https://m.media-amazon.com/images/M/MV5BMTAwMjU5OTgxNjZeQTJeQWpwZ15BbWU4MDUxNDYxODEx._V1_SX300.jpg\"\n",
       "\n",
       "$Ratings\n",
       "                   Source  Value\n",
       "1 Internet Movie Database 8.0/10\n",
       "2         Rotten Tomatoes    91%\n",
       "3              Metacritic 76/100\n",
       "\n",
       "$Metascore\n",
       "[1] \"76\"\n",
       "\n",
       "$imdbRating\n",
       "[1] \"8.0\"\n",
       "\n",
       "$imdbVotes\n",
       "[1] \"1,040,471\"\n",
       "\n",
       "$imdbID\n",
       "[1] \"tt2015381\"\n",
       "\n",
       "$Type\n",
       "[1] \"movie\"\n",
       "\n",
       "$DVD\n",
       "[1] \"N/A\"\n",
       "\n",
       "$BoxOffice\n",
       "[1] \"$333,718,600\"\n",
       "\n",
       "$Production\n",
       "[1] \"Marvel Studios, Moving Picture Company, Marvel Enterprises\"\n",
       "\n",
       "$Website\n",
       "[1] \"N/A\"\n",
       "\n",
       "$Response\n",
       "[1] \"True\"\n"
      ]
     },
     "metadata": {},
     "output_type": "display_data"
    }
   ],
   "source": [
    "get_movie('galaxy', 1)"
   ]
  }
 ],
 "metadata": {
  "kernelspec": {
   "display_name": "R",
   "language": "R",
   "name": "ir"
  },
  "language_info": {
   "codemirror_mode": "r",
   "file_extension": ".r",
   "mimetype": "text/x-r-source",
   "name": "R",
   "pygments_lexer": "r",
   "version": "4.0.2"
  }
 },
 "nbformat": 4,
 "nbformat_minor": 4
}
