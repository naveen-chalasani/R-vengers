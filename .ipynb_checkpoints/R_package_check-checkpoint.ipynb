{
 "cells": [
  {
   "cell_type": "code",
   "execution_count": 1,
   "metadata": {},
   "outputs": [
    {
     "name": "stderr",
     "output_type": "stream",
     "text": [
      "Installing package into 'C:/Users/rainy/R/win-library/4.0'\n",
      "(as 'lib' is unspecified)\n",
      "\n",
      "also installing the dependencies 'credentials', 'gitcreds', 'gert', 'gh', 'rappdirs', 'withr', 'usethis', 'covr'\n",
      "\n",
      "\n"
     ]
    },
    {
     "name": "stdout",
     "output_type": "stream",
     "text": [
      "package 'credentials' successfully unpacked and MD5 sums checked\n",
      "package 'gitcreds' successfully unpacked and MD5 sums checked\n",
      "package 'gert' successfully unpacked and MD5 sums checked\n",
      "package 'gh' successfully unpacked and MD5 sums checked\n",
      "package 'rappdirs' successfully unpacked and MD5 sums checked\n",
      "package 'withr' successfully unpacked and MD5 sums checked\n",
      "package 'usethis' successfully unpacked and MD5 sums checked\n",
      "package 'covr' successfully unpacked and MD5 sums checked\n",
      "package 'devtools' successfully unpacked and MD5 sums checked\n",
      "\n",
      "The downloaded binary packages are in\n",
      "\tC:\\Users\\rainy\\AppData\\Local\\Temp\\RtmpI7uiIG\\downloaded_packages\n"
     ]
    },
    {
     "name": "stderr",
     "output_type": "stream",
     "text": [
      "Installing package into 'C:/Users/rainy/R/win-library/4.0'\n",
      "(as 'lib' is unspecified)\n",
      "\n"
     ]
    },
    {
     "name": "stdout",
     "output_type": "stream",
     "text": [
      "package 'roxygen2' successfully unpacked and MD5 sums checked\n",
      "\n",
      "The downloaded binary packages are in\n",
      "\tC:\\Users\\rainy\\AppData\\Local\\Temp\\RtmpI7uiIG\\downloaded_packages\n"
     ]
    }
   ],
   "source": [
    "install.packages(\"devtools\")\n",
    "install.packages(\"roxygen2\")"
   ]
  },
  {
   "cell_type": "code",
   "execution_count": 9,
   "metadata": {},
   "outputs": [
    {
     "data": {
      "text/html": [
       "'C:/MDS/DATA534/Project'"
      ],
      "text/latex": [
       "'C:/MDS/DATA534/Project'"
      ],
      "text/markdown": [
       "'C:/MDS/DATA534/Project'"
      ],
      "text/plain": [
       "[1] \"C:/MDS/DATA534/Project\""
      ]
     },
     "metadata": {},
     "output_type": "display_data"
    }
   ],
   "source": [
    "getwd()"
   ]
  },
  {
   "cell_type": "code",
   "execution_count": 8,
   "metadata": {},
   "outputs": [],
   "source": [
    "setwd('C:/MDS/DATA534/Project')"
   ]
  },
  {
   "cell_type": "code",
   "execution_count": 10,
   "metadata": {},
   "outputs": [
    {
     "name": "stderr",
     "output_type": "stream",
     "text": [
      "\u001b[32m√\u001b[39m Creating \u001b[34m'R.vengers/'\u001b[39m\n",
      "\n",
      "\u001b[32m√\u001b[39m Setting active project to \u001b[34m'C:/MDS/DATA534/Project/R.vengers'\u001b[39m\n",
      "\n",
      "\u001b[32m√\u001b[39m Creating \u001b[34m'R/'\u001b[39m\n",
      "\n",
      "\u001b[32m√\u001b[39m Writing \u001b[34m'DESCRIPTION'\u001b[39m\n",
      "\n"
     ]
    },
    {
     "name": "stdout",
     "output_type": "stream",
     "text": [
      "\u001b[34mPackage\u001b[39m: R.vengers\n",
      "\u001b[34mTitle\u001b[39m: What the Package Does (One Line, Title Case)\n",
      "\u001b[34mVersion\u001b[39m: 0.0.0.9000\n",
      "\u001b[34mAuthors@R\u001b[39m (parsed):\n",
      "    * First Last <first.last@example.com> [aut, cre] (YOUR-ORCID-ID)\n",
      "\u001b[34mDescription\u001b[39m: What the package does (one paragraph).\n",
      "\u001b[34mLicense\u001b[39m: `use_mit_license()`, `use_gpl3_license()` or friends to\n",
      "    pick a license\n",
      "\u001b[34mEncoding\u001b[39m: UTF-8\n",
      "\u001b[34mLazyData\u001b[39m: true\n",
      "\u001b[34mRoxygen\u001b[39m: list(markdown = TRUE)\n",
      "\u001b[34mRoxygenNote\u001b[39m: 7.1.1\n"
     ]
    },
    {
     "name": "stderr",
     "output_type": "stream",
     "text": [
      "\u001b[32m√\u001b[39m Writing \u001b[34m'NAMESPACE'\u001b[39m\n",
      "\n",
      "\u001b[32m√\u001b[39m Setting active project to \u001b[34m'<no active project>'\u001b[39m\n",
      "\n"
     ]
    }
   ],
   "source": [
    "devtools::create(\"R.vengers\")"
   ]
  },
  {
   "cell_type": "code",
   "execution_count": 11,
   "metadata": {},
   "outputs": [],
   "source": [
    "# External dependencies need to be used as ::\n",
    "# package need to be added to imports in DESCRIPTION file"
   ]
  },
  {
   "cell_type": "code",
   "execution_count": 14,
   "metadata": {},
   "outputs": [],
   "source": [
    "#' A Movie Search Function\n",
    "#'\n",
    "#' This function allows you to search movie by using a key word.\n",
    "#' @param A string of an English word\n",
    "#' @return A list of search results\n",
    "#' @export\n",
    "#' search_movie()\n",
    "\n",
    "search_movie <- function(keyWord){\n",
    "    \n",
    "    base_search_url <- \"http://www.omdbapi.com/?s=\"\n",
    "    apikey <- 'apikey=45abab5f'\n",
    "    \n",
    "    search_url <- paste0(base_search_url, paste(keyWord, apikey, sep = '&'))\n",
    "    result <- httr::GET(url = search_url)\n",
    "    result_httr <- httr::content(result, as = \"text\")\n",
    "    result_json <- fromJSON(search_1_httr)\n",
    "    \n",
    "    result_json\n",
    "}"
   ]
  },
  {
   "cell_type": "code",
   "execution_count": null,
   "metadata": {},
   "outputs": [],
   "source": [
    "setwd('./R.vengers')"
   ]
  },
  {
   "cell_type": "code",
   "execution_count": 19,
   "metadata": {},
   "outputs": [
    {
     "name": "stderr",
     "output_type": "stream",
     "text": [
      "Updating R.vengers documentation\n",
      "\n",
      "Loading R.vengers\n",
      "\n",
      "Warning message:\n",
      "\"\n",
      "-- \u001b[1mConflicts\u001b[22m -------------------------------------------- R.vengers conflicts --\n",
      "\u001b[31mx\u001b[39m \u001b[32msearch_movie()\u001b[39m masks \u001b[34mR.vengers\u001b[39m::search_movie()\n",
      "\n",
      "\u001b[90mDid you accidentally source a file rather than using `load_all()`?\n",
      "Run `rm(list = c(\"search_movie\"))` to remove the conflicts.\u001b[39m\"\n"
     ]
    },
    {
     "name": "stdout",
     "output_type": "stream",
     "text": [
      "Writing NAMESPACE\n",
      "Writing search_movie.Rd\n"
     ]
    }
   ],
   "source": [
    "devtools::document()"
   ]
  }
 ],
 "metadata": {
  "kernelspec": {
   "display_name": "R",
   "language": "R",
   "name": "ir"
  },
  "language_info": {
   "codemirror_mode": "r",
   "file_extension": ".r",
   "mimetype": "text/x-r-source",
   "name": "R",
   "pygments_lexer": "r",
   "version": "4.0.2"
  }
 },
 "nbformat": 4,
 "nbformat_minor": 4
}
